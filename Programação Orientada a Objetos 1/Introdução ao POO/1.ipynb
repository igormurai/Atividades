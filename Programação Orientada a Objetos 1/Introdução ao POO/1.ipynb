{
 "cells": [
  {
   "cell_type": "markdown",
   "metadata": {},
   "source": [
    "**1. Qual das alternativas abaixo melhor define o termo “classe”?**\n",
    "\n",
    "`a) Uma coleção de variáveis e funções trabalhando com essas variáveis.`\n",
    "\n",
    "b) Define e obtém as propriedades e métodos dela.\n",
    "\n",
    "c) É a personificação de um objeto da vida real."
   ]
  }
 ],
 "metadata": {
  "language_info": {
   "name": "python"
  }
 },
 "nbformat": 4,
 "nbformat_minor": 2
}
