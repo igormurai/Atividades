{
 "cells": [
  {
   "cell_type": "markdown",
   "metadata": {},
   "source": [
    "**2. Qual das alternativas abaixo melhor define o termo “objeto”?**\n",
    "\n",
    "`a) Um objeto nos dá a capacidade de trabalhar com a classe e ter várias instâncias desta mesma classe.`\n",
    "\n",
    "b) Uma variável dentro de uma classe.\n",
    "\n",
    "c) Uma função dentro de uma classe."
   ]
  }
 ],
 "metadata": {
  "language_info": {
   "name": "python"
  }
 },
 "nbformat": 4,
 "nbformat_minor": 2
}
