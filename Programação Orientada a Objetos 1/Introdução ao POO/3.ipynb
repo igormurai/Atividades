{
 "cells": [
  {
   "cell_type": "markdown",
   "metadata": {},
   "source": [
    "**3. Qual das alternativas abaixo melhor explica o termo \"propriedade\"?**\n",
    "\n",
    "a) Agrupa o código relacionado a um tópico.\n",
    "\n",
    "`b) Uma variável dentro de uma classe.`\n",
    "\n",
    "c) Uma função dentro de uma classe."
   ]
  }
 ],
 "metadata": {
  "language_info": {
   "name": "python"
  }
 },
 "nbformat": 4,
 "nbformat_minor": 2
}
