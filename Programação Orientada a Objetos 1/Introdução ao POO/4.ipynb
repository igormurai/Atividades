{
 "cells": [
  {
   "cell_type": "markdown",
   "metadata": {},
   "source": [
    "**4. Qual das alternativas abaixo melhor explica o termo \"método\"?**\n",
    "\n",
    "`a) Uma função dentro de uma classe.`\n",
    "\n",
    "b) Uma variável dentro de uma classe.\n",
    "\n",
    "c) A incorporação de uma ação real."
   ]
  }
 ],
 "metadata": {
  "language_info": {
   "name": "python"
  }
 },
 "nbformat": 4,
 "nbformat_minor": 2
}
