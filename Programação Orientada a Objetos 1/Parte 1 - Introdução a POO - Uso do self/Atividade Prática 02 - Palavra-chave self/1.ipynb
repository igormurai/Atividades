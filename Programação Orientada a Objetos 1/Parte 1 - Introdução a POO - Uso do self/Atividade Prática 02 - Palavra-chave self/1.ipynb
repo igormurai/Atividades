{
 "cells": [
  {
   "cell_type": "markdown",
   "metadata": {},
   "source": [
    "**1. Qual palavra-chave (keyword) você usaria para ter acesso às propriedades e métodos de uma classe\n",
    "estando dentro dela?**\n",
    "\n",
    "a) A palavra-chave new\n",
    "\n",
    "b) A palavra-chave this\n",
    "\n",
    "`c) A palavra-chave self`"
   ]
  }
 ],
 "metadata": {
  "language_info": {
   "name": "python"
  }
 },
 "nbformat": 4,
 "nbformat_minor": 2
}
