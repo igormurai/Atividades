{
 "cells": [
  {
   "cell_type": "markdown",
   "metadata": {},
   "source": [
    "**1. Nós usamos o modificador de acesso private a fim de:**\n",
    "\n",
    "a) Limitar o acesso a uma classe\n",
    "\n",
    "b) Limitar o acesso às propriedades\n",
    "\n",
    "c) Limitar o acesso aos métodos\n",
    "\n",
    "`d) B e C estão corretas`"
   ]
  }
 ],
 "metadata": {
  "language_info": {
   "name": "python"
  }
 },
 "nbformat": 4,
 "nbformat_minor": 2
}
